{
  "nbformat": 4,
  "nbformat_minor": 0,
  "metadata": {
    "colab": {
      "provenance": [],
      "authorship_tag": "ABX9TyNyO8wJlK9TZEZo8zzDyNoH",
      "include_colab_link": true
    },
    "kernelspec": {
      "name": "python3",
      "display_name": "Python 3"
    },
    "language_info": {
      "name": "python"
    }
  },
  "cells": [
    {
      "cell_type": "markdown",
      "metadata": {
        "id": "view-in-github",
        "colab_type": "text"
      },
      "source": [
        "<a href=\"https://colab.research.google.com/github/NHleza/Final_Project/blob/main/index.ipynb\" target=\"_parent\"><img src=\"https://colab.research.google.com/assets/colab-badge.svg\" alt=\"Open In Colab\"/></a>"
      ]
    },
    {
      "cell_type": "code",
      "execution_count": null,
      "metadata": {
        "id": "_X6xlzdkqciS"
      },
      "outputs": [],
      "source": [
        "import pandas as pd\n",
        "import numpy as np\n",
        "from sklearn.ensemble import IsolationForest\n",
        "from sklearn.model_selection import train_test_split\n",
        "from sklearn.metrics import classification_report\n",
        "\n",
        "# 1. Data Simulation\n",
        "class HealthDataSimulator:\n",
        "    def __init__(self, num_records=100):\n",
        "        self.num_records = num_records\n",
        "\n",
        "    def simulate(self):\n",
        "        data = {\n",
        "            'timestamp': pd.date_range(start='2023-10-01', periods=self.num_records, freq='T'),\n",
        "            'heart_rate': np.random.randint(60, 100, self.num_records),\n",
        "            'blood_oxygen': np.random.randint(90, 100, self.num_records),\n",
        "            'activity_level': np.random.choice(['low', 'moderate', 'high'], self.num_records)\n",
        "        }\n",
        "        return pd.DataFrame(data)\n",
        "\n",
        "# 2. Anomaly Detection Model\n",
        "class HealthAnomalyDetector:\n",
        "    def __init__(self, contamination=0.1):\n",
        "        self.model = IsolationForest(contamination=contamination, random_state=42)\n",
        "\n",
        "    def train(self, df):\n",
        "        features = df[['heart_rate', 'blood_oxygen']]\n",
        "        self.model.fit(features)\n",
        "        df['anomaly'] = self.model.predict(features)\n",
        "        df['anomaly_label'] = df['anomaly'].apply(lambda x: 'Anomaly' if x == -1 else 'Normal')\n",
        "        return df\n",
        "\n",
        "    def evaluate(self, df):\n",
        "        X = df[['heart_rate', 'blood_oxygen']]\n",
        "        y = df['anomaly'].apply(lambda x: 1 if x == -1 else 0)\n",
        "        X_train, X_test, y_train, y_test = train_test_split(X, y, test_size=0.2, random_state=42)\n",
        "        self.model.fit(X_train)\n",
        "        y_pred = self.model.predict(X_test)\n",
        "        y_pred_labels = np.where(y_pred == -1, 1, 0)\n",
        "        report = classification_report(y_test, y_pred_labels, target_names=['Normal', 'Anomaly'])\n",
        "        return report\n",
        "\n",
        "# 3. Usage\n",
        "if __name__ == '__main__':\n",
        "    # Simulate health data\n",
        "    simulator = HealthDataSimulator()\n",
        "    df = simulator.simulate()\n",
        "\n",
        "    # Train anomaly detector\n",
        "    detector = HealthAnomalyDetector()\n",
        "    df = detector.train(df)\n",
        "\n",
        "    # Evaluate the model\n",
        "    print(detector.evaluate(df))\n"
      ]
    },
    {
      "cell_type": "markdown",
      "source": [],
      "metadata": {
        "id": "As9KCluyrrBW"
      }
    },
    {
      "cell_type": "code",
      "source": [],
      "metadata": {
        "id": "yVuN9S0orsTY"
      },
      "execution_count": null,
      "outputs": []
    }
  ]
}